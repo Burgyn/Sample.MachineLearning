{
 "cells": [
  {
   "cell_type": "code",
   "execution_count": 1,
   "metadata": {},
   "outputs": [],
   "source": [
    "from __future__ import print_function, division"
   ]
  },
  {
   "cell_type": "code",
   "execution_count": 2,
   "metadata": {},
   "outputs": [
    {
     "data": {
      "text/html": [
       "<div>\n",
       "<style scoped>\n",
       "    .dataframe tbody tr th:only-of-type {\n",
       "        vertical-align: middle;\n",
       "    }\n",
       "\n",
       "    .dataframe tbody tr th {\n",
       "        vertical-align: top;\n",
       "    }\n",
       "\n",
       "    .dataframe thead th {\n",
       "        text-align: right;\n",
       "    }\n",
       "</style>\n",
       "<table border=\"1\" class=\"dataframe\">\n",
       "  <thead>\n",
       "    <tr style=\"text-align: right;\">\n",
       "      <th></th>\n",
       "      <th>TV</th>\n",
       "      <th>Description</th>\n",
       "    </tr>\n",
       "  </thead>\n",
       "  <tbody>\n",
       "    <tr>\n",
       "      <th>0</th>\n",
       "      <td>M</td>\n",
       "      <td>kohout kulový plnoprůtokový nikl ovládání páč...</td>\n",
       "    </tr>\n",
       "    <tr>\n",
       "      <th>1</th>\n",
       "      <td>M</td>\n",
       "      <td>8/8 DÍRY KOLENO PATNÍ PŘÍRUBOVÉ 80 - 8/8 DÍRY</td>\n",
       "    </tr>\n",
       "    <tr>\n",
       "      <th>2</th>\n",
       "      <td>M</td>\n",
       "      <td>ABSOLUT - souprava distančních prvků, světlý p...</td>\n",
       "    </tr>\n",
       "    <tr>\n",
       "      <th>3</th>\n",
       "      <td>M</td>\n",
       "      <td>ABSOLUT - souprava distančních prvků, světlý p...</td>\n",
       "    </tr>\n",
       "    <tr>\n",
       "      <th>4</th>\n",
       "      <td>M</td>\n",
       "      <td>ABSOLUT - souprava napojení horních dvířek, sv...</td>\n",
       "    </tr>\n",
       "  </tbody>\n",
       "</table>\n",
       "</div>"
      ],
      "text/plain": [
       "  TV                                        Description\n",
       "0  M   kohout kulový plnoprůtokový nikl ovládání páč...\n",
       "1  M      8/8 DÍRY KOLENO PATNÍ PŘÍRUBOVÉ 80 - 8/8 DÍRY\n",
       "2  M  ABSOLUT - souprava distančních prvků, světlý p...\n",
       "3  M  ABSOLUT - souprava distančních prvků, světlý p...\n",
       "4  M  ABSOLUT - souprava napojení horních dvířek, sv..."
      ]
     },
     "execution_count": 2,
     "metadata": {},
     "output_type": "execute_result"
    }
   ],
   "source": [
    "import pandas as pd\n",
    "df = pd.read_csv('data.csv', sep=';')\n",
    "df.head()"
   ]
  },
  {
   "cell_type": "code",
   "execution_count": 3,
   "metadata": {},
   "outputs": [
    {
     "name": "stdout",
     "output_type": "stream",
     "text": [
      "0     kohout kulový plnoprůtokový nikl ovládání páč...\n",
      "1        8/8 DÍRY KOLENO PATNÍ PŘÍRUBOVÉ 80 - 8/8 DÍRY\n",
      "2    ABSOLUT - souprava distančních prvků, světlý p...\n",
      "3    ABSOLUT - souprava distančních prvků, světlý p...\n",
      "4    ABSOLUT - souprava napojení horních dvířek, sv...\n",
      "Name: Description, dtype: object\n",
      "0    1\n",
      "1    1\n",
      "2    1\n",
      "3    1\n",
      "4    1\n",
      "Name: TV, dtype: int64\n"
     ]
    }
   ],
   "source": [
    "data = df['Description']\n",
    "target = df['TV'].replace('K', 0).replace('M', 1)\n",
    "names = ['K', 'M']\n",
    "print(data[:5])\n",
    "print(target[:5])"
   ]
  },
  {
   "cell_type": "code",
   "execution_count": 4,
   "metadata": {},
   "outputs": [
    {
     "name": "stdout",
     "output_type": "stream",
     "text": [
      "Train size: 104924\n",
      "Test size: 26232\n"
     ]
    }
   ],
   "source": [
    "from sklearn.model_selection import train_test_split\n",
    "\n",
    "X_train, X_test, y_train, y_test = train_test_split(data, target, test_size=0.2)\n",
    "print('Train size: {}'.format(len(X_train)))\n",
    "print('Test size: {}'.format(len(X_test)))"
   ]
  },
  {
   "cell_type": "code",
   "execution_count": 5,
   "metadata": {},
   "outputs": [
    {
     "name": "stdout",
     "output_type": "stream",
     "text": [
      "ABSOLUT - souprava napojení horních dvířek, světlý průřez 12 cm\n",
      "['absolut', '-', 'souprava', 'napojení', 'horních', 'dvířek', ',', 'světlý', 'průřez', '12', 'cm']\n"
     ]
    }
   ],
   "source": [
    "from nltk.tokenize.casual import casual_tokenize\n",
    "\n",
    "item = data[4]\n",
    "print(item)\n",
    "\n",
    "tokenizer = lambda text: casual_tokenize(text, preserve_case=False)\n",
    "\n",
    "print(tokenizer(item))"
   ]
  },
  {
   "cell_type": "code",
   "execution_count": 6,
   "metadata": {},
   "outputs": [
    {
     "name": "stdout",
     "output_type": "stream",
     "text": [
      "['absolut', '-', 'souprava', 'napojení', 'horních', 'dvířek', ',', 'světlý', 'průřez', '12', 'cm']\n"
     ]
    }
   ],
   "source": [
    "from nltk.stem.porter import PorterStemmer\n",
    "\n",
    "stemmer = PorterStemmer()\n",
    "\n",
    "stem_tokenizer = lambda text: [stemmer.stem(w) for w in tokenizer(text)]\n",
    "\n",
    "print (stem_tokenizer(item))"
   ]
  },
  {
   "cell_type": "code",
   "execution_count": null,
   "metadata": {},
   "outputs": [],
   "source": []
  },
  {
   "cell_type": "code",
   "execution_count": 7,
   "metadata": {},
   "outputs": [
    {
     "name": "stdout",
     "output_type": "stream",
     "text": [
      "  (0, 9)\t1\n",
      "  (0, 10)\t1\n",
      "  (0, 1544)\t1\n",
      "  (0, 10408)\t1\n",
      "  (0, 11758)\t1\n",
      "  (0, 12957)\t1\n",
      "  (0, 14222)\t1\n",
      "  (0, 18270)\t1\n",
      "  (0, 22691)\t1\n",
      "  (0, 25634)\t1\n",
      "  (0, 26705)\t1\n"
     ]
    }
   ],
   "source": [
    "from sklearn.feature_extraction.text import CountVectorizer\n",
    "vectorizer = CountVectorizer(tokenizer=stem_tokenizer)\n",
    "vectorizer.fit(X_train)\n",
    "print (vectorizer.transform([item]))"
   ]
  },
  {
   "cell_type": "code",
   "execution_count": 8,
   "metadata": {},
   "outputs": [
    {
     "name": "stdout",
     "output_type": "stream",
     "text": [
      "  (0, 26705)\t0.2744615727763041\n",
      "  (0, 25634)\t0.3534263029909493\n",
      "  (0, 22691)\t0.29336091621481336\n",
      "  (0, 18270)\t0.3393481134279839\n",
      "  (0, 14222)\t0.37959510047242817\n",
      "  (0, 12957)\t0.4168622964955362\n",
      "  (0, 11758)\t0.1832268406565983\n",
      "  (0, 10408)\t0.37827948714349513\n",
      "  (0, 1544)\t0.25232910591279983\n",
      "  (0, 10)\t0.17982519480474665\n",
      "  (0, 9)\t0.08945270104202255\n"
     ]
    }
   ],
   "source": [
    "from sklearn.feature_extraction.text import TfidfTransformer\n",
    "\n",
    "tfidf_transformer = TfidfTransformer()\n",
    "tfidf_transformer.fit(vectorizer.transform(X_train))\n",
    "print(tfidf_transformer.transform(vectorizer.transform([item])))"
   ]
  },
  {
   "cell_type": "code",
   "execution_count": 9,
   "metadata": {},
   "outputs": [
    {
     "data": {
      "text/plain": [
       "Pipeline(memory=None,\n",
       "     steps=[('vec', CountVectorizer(analyzer='word', binary=False, decode_error='strict',\n",
       "        dtype=<class 'numpy.int64'>, encoding='utf-8', input='content',\n",
       "        lowercase=True, max_df=1.0, max_features=None, min_df=1,\n",
       "        ngram_range=(1, 1), preprocessor=None, stop_words=None,\n",
       "        strip_...,\n",
       "  max_iter=-1, probability=False, random_state=None, shrinking=True,\n",
       "  tol=0.001, verbose=False))])"
      ]
     },
     "execution_count": 9,
     "metadata": {},
     "output_type": "execute_result"
    }
   ],
   "source": [
    "from sklearn.pipeline import Pipeline\n",
    "from sklearn.linear_model import LogisticRegression\n",
    "from sklearn import svm\n",
    "from sklearn.ensemble import GradientBoostingClassifier\n",
    "\n",
    "clf_pipeline = Pipeline([('vec', vectorizer),\n",
    "                         ('tfidf', tfidf_transformer),\n",
    "                         #('lr', LogisticRegression())\n",
    "                         #('gbc', GradientBoostingClassifier(n_estimators=100, max_depth=4))\n",
    "                         ('svm', svm.SVC(kernel='linear'))\n",
    "                        ])\n",
    "clf_pipeline.fit(X_train, y_train)"
   ]
  },
  {
   "cell_type": "code",
   "execution_count": 10,
   "metadata": {},
   "outputs": [
    {
     "name": "stdout",
     "output_type": "stream",
     "text": [
      "Test accuracy: 1.00\n",
      "\n",
      "             precision    recall  f1-score   support\n",
      "\n",
      "          0     0.9980    0.9966    0.9973     17607\n",
      "          1     0.9932    0.9959    0.9946      8625\n",
      "\n",
      "avg / total     0.9964    0.9964    0.9964     26232\n",
      "\n"
     ]
    }
   ],
   "source": [
    "from sklearn import metrics\n",
    "from sklearn.metrics import accuracy_score\n",
    "\n",
    "y_pred = clf_pipeline.predict(X_test)\n",
    "\n",
    "print (\"Test accuracy: {:.2f}\".format(accuracy_score(y_test, y_pred)))\n",
    "print ()\n",
    "print(metrics.classification_report(y_test, y_pred, digits=4))"
   ]
  },
  {
   "cell_type": "code",
   "execution_count": 11,
   "metadata": {},
   "outputs": [
    {
     "name": "stdout",
     "output_type": "stream",
     "text": [
      "Train accuracy: 1.00\n",
      "\n",
      "             precision    recall  f1-score   support\n",
      "\n",
      "          0     0.9997    0.9990    0.9994     70122\n",
      "          1     0.9981    0.9993    0.9987     34802\n",
      "\n",
      "avg / total     0.9991    0.9991    0.9991    104924\n",
      "\n",
      "120350    0\n",
      "78423     0\n",
      "17080     1\n",
      "40977     0\n",
      "107245    1\n",
      "91225     1\n",
      "26298     1\n",
      "50951     0\n",
      "41715     0\n",
      "12219     0\n",
      "31143     0\n",
      "116349    1\n",
      "52455     0\n",
      "16479     0\n",
      "46661     0\n",
      "40968     0\n",
      "11975     1\n",
      "47794     0\n",
      "25171     1\n",
      "25838     1\n",
      "27892     1\n",
      "30924     0\n",
      "90965     1\n",
      "114754    0\n",
      "85882     0\n",
      "125692    0\n",
      "54528     0\n",
      "12795     0\n",
      "32602     0\n",
      "44944     0\n",
      "117588    1\n",
      "40954     0\n",
      "74592     1\n",
      "85106     0\n",
      "11023     1\n",
      "2808      1\n",
      "119495    0\n",
      "103111    1\n",
      "98329     1\n",
      "9035      0\n",
      "110583    1\n",
      "5538      0\n",
      "17151     0\n",
      "42363     0\n",
      "8315      0\n",
      "109231    1\n",
      "61231     1\n",
      "31497     0\n",
      "89344     1\n",
      "101961    1\n",
      "Name: TV, dtype: int64\n",
      "[0 0 1 0 1 1 1 0 0 0 0 1 0 0 0 0 1 0 1 1 1 0 1 0 0 0 0 0 0 0 1 0 1 0 1 1 0\n",
      " 1 1 0 1 0 0 0 0 1 1 0 1 1]\n"
     ]
    }
   ],
   "source": [
    "y_pred = clf_pipeline.predict(X_train)\n",
    "\n",
    "print (\"Train accuracy: {:.2f}\".format(accuracy_score(y_train, y_pred)))\n",
    "print ()\n",
    "print(metrics.classification_report(y_train, y_pred, digits=4))\n",
    "print(y_train[:50])\n",
    "print(y_pred[:50])"
   ]
  },
  {
   "cell_type": "code",
   "execution_count": 12,
   "metadata": {},
   "outputs": [
    {
     "name": "stdout",
     "output_type": "stream",
     "text": [
      "10209                 deska izolační krbová 250x1000x100 mm\n",
      "98105     sopouch 0° (se sponou) DN 150 mm - komínový tř...\n",
      "67646     Opravy dopravníků a dopravních zařízení Montáž...\n",
      "98330     souprava zemní pro šoupátka DN 100-150 mm, Rd ...\n",
      "117169    Vodorovné přemístění větví, kmenů nebo pařezů ...\n",
      "Name: Description, dtype: object\n",
      "[0 0 1 0 1]\n"
     ]
    }
   ],
   "source": [
    "print(X_test[:5])\n",
    "print(y_pred[:5])"
   ]
  },
  {
   "cell_type": "code",
   "execution_count": 13,
   "metadata": {},
   "outputs": [
    {
     "name": "stdout",
     "output_type": "stream",
     "text": [
      "['K', 'M', 'K', 'M', 'M', 'K']\n"
     ]
    }
   ],
   "source": [
    "text = [\"Žlaby šachet z cihel z kyselinovzdorné kameniny PKZ normálek N 65 průměru do 500 mm\",\n",
    "       \"žlaby z taveného čediče čtvrtinové l 500mm tl 20mm D 303mm\",\n",
    "       \"Obklady schodišť přírodním litým teracem  stupňů tl. do 25 mm se zábradlím profilovaných\",\n",
    "       \"Oblouk 45° PE100 RC SDR17 110\",\n",
    "       \"Oblouk 47° PE255 RC\",\n",
    "       \"Oblozeni sten z cementotriskovych desek sroubovanych\"]\n",
    "\n",
    "res = list(map(lambda x: \"K\" if x == 0 else \"M\", clf_pipeline.predict(text)))\n",
    "\n",
    "print(res)"
   ]
  },
  {
   "cell_type": "code",
   "execution_count": 14,
   "metadata": {},
   "outputs": [
    {
     "name": "stdout",
     "output_type": "stream",
     "text": [
      "131\n",
      "K->K   Asfaltový beton vrstva obrusná ACO 11 (ABS)  s rozprostřením a se zhutněním z modifikovaného asfaltu v pruhu šířky přes 3 m tl. 50 mm\n",
      "K->K   Bednění mostních pilířů a sloupů konstantního průřezu ze systémového bednění  zřízení pro stativa a příčníky\n",
      "K->K   Bourání plotových sloupků a vzpěr železobetonových výšky do 2,5 m s betonovou patkou\n",
      "K->K   Čerpadla teplovodní závitová mokroběžná oběhová pro teplovodní vytápění (elektronicky řízená) PN 10, do 110°C DN přípojky/dopravní výška H (m) - čerpací výkon Q (m3/h) DN 25 / do 6,0 m / 7,0 m3/h\n",
      "K->K   Demolice hal průmyslových, zemědělských nebo občanské výstavby  těžkými mechanizačními prostředky z cihel, tvárnic, kamene, zdiva smíšeného nebo hrázděného na maltu vápennou nebo vápenocementovou s podílem konstrukcí do 10 %\n",
      "K->K   Demontáž lešení prostorového modulového těžkého pracovního nebo podpěrného bez podlah  s provozním zatížením tř. 6 přes 450 do 600 kg/m2, výšky do 10 m\n",
      "K->K   Demontáž ocelového potrubí do šrotu hmotnosti přes 50 do 250 kg  připojovací rozměr Ø 38, tl. 2,6 mm\n",
      "K->K   Demontáž pojízdných věží trubkových nebo dílcových  s maximálním zatížením podlahy do 200 kg/m2 o půdorysné ploše přes 5 m2, výšky přes 11,6 m do 12,6 m\n",
      "K->K   Demontáž ústředny EPS dvou nebo tříkruhové\n",
      "M->M   deska dřevovláknitá zvukově a tepelně izolančnít tl 15mm\n",
      "M->M   deska polykarbonátová plná bez UV ochrany čirá tl 5mm\n",
      "M->M   DIN URxUR2 odbočka DN 400/200/45°\n",
      "K->K   Domovní plynovody  opakovaná tlaková zkouška kontrola před natlakováním plynovodu DN do 50, délky za každých dalších i započatých 20 m přes 50 m\n",
      "M->M   Duktus TT přírubový kříž DN 300/300, PN 10\n",
      "K->K   Dvousložkový komínový systém jednoprůduchový z lehkého betonu z vnitřních keramických profilovaných vložek s vystřeďovacími objímkami ukončení v nadstřešní části komínu komínovým pláštěm z vláknitého betonu s krycí deskou a soupravou komínové hlavy cihlové struktury výšky 150 cm, světlý průměr vložky 14 cm\n",
      "M->M   fólie FONDALINE Fondaline 20, šířka 2m\n",
      "M->M   HELUZ STI 49 broušená\n",
      "K->K   Hloubení nezapažených kabelových rýh strojně  zarovnání kabelových rýh po výkopu strojně, šířka rýhy bez zarovnání rýh šířky 35 cm, hloubky 100 cm, v hornině třídy 1 a 2\n",
      "K->K   Hloubení rýhy v kořenové zóně stromu v zemině tř. 1 až 4 šíře do 300 mm technologií pneumatického rýče, s přerušením kořenů do 30 mm na svahu přes 1:5 do 1:2, hloubky přes 400 do 600 mm\n",
      "K->K   Hodinové zúčtovací sazby montáží technologických zařízení  na stavebních objektech montér slaboproudých zařízení\n",
      "K->K   Chránička kabelů v římse z trub HDPE  přes DN 160 do DN 200\n",
      "M->M   izolace tepelná vrstvená pro uzavírací ventily s povrchovou teplotou do 150 °C DN150\n",
      "K->K   Kamenické opracování ploch obyčejného nebo předsádkového betonu  s vypracováním pásků štokováním ploch\n",
      "M->M   klapka zpětná s obtokem a závažím L17 117 516 PN16 DN125 mm\n",
      "M->M   koleno 90° SDR 17 PE 100 PN 10 D 280mm\n",
      "K->K   Komínové nástavce nerezové  napojené na stávající komínový průduch nad úrovní střešní roviny výšky nástavce přes 2 do 2,5 m, světlý průměr vložky 300 mm\n",
      "M->M   konstrukce opěrných zdí vyztužená geosyntetiky s lícem z velkorozměrových ŽB prebrikátů v 4-6m\n",
      "M->M   kotel litinový na tuhá paliva stacionární odtah spalin do komína pro vytápění 55-74 kW\n",
      "M->M   kroužek těsnící gumový TYTON-SIT-PLUS DN 150 pro vodovodní potrubí\n",
      "K->K   Krytina keramická drážková sklonu střechy do 30° hřeben na sucho s větracím pásem umělohmotným s kartáči z hřebenáčů glazovaných\n",
      "M->M   lano ocelové šestipramenné Pz+PVC 6x19 drátů  D 14,0/16,0mm\n",
      "K->K   Liniové odvodnění odvodňovacím žlabem s napojením na kontaktní izolaci pro bezbariérové sprchy v úrovni podlahy s horizontálním nebo vertikálním odtokem s bezrámovým krytem a nosičem pro nalepení dlažby délky 600 mm\n",
      "K->K   Maloprofilové vrty průběžným sacím vrtáním průměru přes 93 do 156 mm v omezeném prostoru úklonu přes 45° v hl 0 až 50 m v hornině tř. III a IV\n",
      "K->K   Montáž 60 pólového konektoru na bytový kabel s odměření,odstranění pláště kabelu,zastřižení a odholení vodičů na potřebnou délku,nahození vodičů na špičky konektoru a připájení nebo navinutí vodičů,připevnění kabelu ke konektoru,nasazení krytu 2 konektorů na kabel s poloautomatického přezkoušení\n",
      "K->K   Montáž čidel Montáž manometr profilový 80 x 25, 160 x 80 mm, bez přenosu\n",
      "K->K   Montáž dopravníků včetně příslušenství Montáž poháněcí stanice doplňující pohony 500 kW\n",
      "K->K   Montáž chrániček  celých Ø 1020, tl. stěny 18 mm\n",
      "K->K   Montáž jističů se zapojením vodičů  doplňků elektromagnetického pohonu\n",
      "K->K   Montáž klapky škrtící  nebo zpětné do plastového potrubí  čtyřhranné bez příruby, průřezu do 0,01 m2\n",
      "K->K   Montáž krytiny z přírodní břidlice tl. 4-6 mm štítové hrany v místech střešních prostupů, plochy jednotlivě přes 0,5 do 1,0 m2\n",
      "K->K   Montáž nosné ocelové konstrukce haly  skladovací výšky přes 6 do 12 m, rozpětí vazníků přes 24 do 36 m\n",
      "K->K   Montáž obložení stěn  plochy do 5 m2 panely obkladovými z aglomerovaných desek, plochy do 0,60 m2\n",
      "K->K   Montáž oplechování horních ploch zdí a nadezdívek (atik) Příplatek k cenám za zvýšenou pracnost při provedení rohu nebo koutu přes rš 400 mm\n",
      "K->K   Montáž podpěrek a průchodek  průchodek pro holé vodiče vstupních do 10 kV\n",
      "K->K   Montáž potrubí z trub litinových tlakových přírubových  abnormálních délek, jednotlivě do 1 m v otevřeném výkopu, kanálu nebo v šachtě DN 200\n",
      "K->K   Montáž přírubových spojů do PN 40  DN 350\n",
      "K->K   Montáž sloupů ze železobetonu  dilatačních, lodžiových, rohových, apod. s nesvařovanými spoji, hmotnosti přes 1,0 do 2 t, v budovách výšky přes 36 do 52 m\n",
      "K->K   Montáž stavidel, česel, stavidlových uzávěrů, dosazovacích a akumulačních nádrží Montáž stavidlo ocelové dveře š. 2500 mm, plocha 3,00 m2\n",
      "K->K   Montáž systému podlahových kanálů se spojkami, ohyby a rohy a s nasunutím do krabic krabic s vývody\n",
      "K->K   Montáž trubek ochranných s nasunutím nebo našroubováním do krabic ocelových bez závitu, uložených pevně, Ø přes 95 do 115 mm\n",
      "K->K   Montáž trubních dílů přivařovacích hmotnosti přes 1000 do 5000 kg  tř. 11 až 13 Ø 1620 mm, tl. 8 mm\n",
      "K->K   Montáž tvarovek na vodovodním plastovém potrubí z polyetylenu PE 100 elektrotvarovek SDR 11/PN16 T-kusů d 40\n",
      "K->K   Montáž vidlic průmyslových se zapojením vodičů nástěnných, provedení 3P+N+PE 16 A\n",
      "K->K   Montáž výtahů Montáž výtah nákladní NT 5000/0,25 oc k 12 stanice+ 12 nákladišť\n",
      "K->K   Montáž žlabu pro staniční zabezpečovací zařízení skříňové provedení bočního\n",
      "M->M   nádrž zásobníková ležatá hranatá beztlaká 1250L\n",
      "K->K   Nátěr ocelových konstrukcí třídy III dvousložkový epoxidový mezivrstva, tloušťky do 40 μm\n",
      "K->K   Nosná obezdívka štol z betonu železového  délky štoly přes 1000 do 3000 m, v hornině silně zavodněné tř. C 35/45\n",
      "M->M   objímka potrubí jednošroubová M8 48–53 6/4“\n",
      "M->M   obrubník zahradní z recyklovaného materiálu ZO250 25 m x 250 mm x 4 mm\n",
      "K->K   Odháňka zápletová  jednoduchá z řady pilot z výřezů stavebních Ø do 190 mm, zaberaněných ve vzdálenosti přes 1 do 2 m, se zápletem z vrbového klestu na klestové podestýlce tl. 200 mm a š. 2 m, uložené na urovnané dno v. odháňky přes 0,8 do 1,2 m, délka pilot 2 m\n",
      "K->K   Odstranění pařezu odfrézováním nebo odvrtáním hloubky do 200 mm na svahu přes 1:2 do 1:1\n",
      "K->K   Odvodňovací plastový žlab pro třídu zatížení C 250 vnitřní šířky 300 mm s krycím roštem mřížkovým z pozinkované oceli\n",
      "M->M   okno plastové dvoukřídlové otvíravé a sklápěcí 220x120 cm\n",
      "K->K   Omítka vápenná vnějších ploch nanášená ručně jednovrstvá, tloušťky do 15 mm hladká pilířů nebo sloupů\n",
      "K->K   Oplechování říms a ozdobných prvků z nerezového plechu oblých nebo ze segmentů, včetně rohů mechanicky kotvené rš 670 mm\n",
      "K->K   Oprava povrchové úpravy izolace tepelné těles nátěrem epoxidovým lakem kombinovaným dvousložkovým a syntetickým vnějším čtyřnásobným\n",
      "K->K   Opravy jeřábů Opravy jeřáb mostní véměna brzdové soustrojí nad 35 kW\n",
      "K->K   Opravy stojatých kompresorů a turbokompresorů Oprava pístový kompresor 4 DSK 310 - oprava olejové čerpadlo\n",
      "K->K   Opravy výtahů Oprava převáděcích kladek lan rychlovýtah\n",
      "K->K   Osazení prefabrikovaných opěr a pilířů z betonu předpjatého hmotnosti dílce jednotlivě do 1 t\n",
      "K->K   Ostatní výruby včetně jakéhokoliv vystrojení dočasného  v lité skále mokré odsekáním líce skály v klenbě přes 50 do 100 mm\n",
      "K->K   Otopné těleso panel VK jednodeskové 1 přídavná přestupní plocha KORADO Radik VK typ 11 výška/délka 900/1600 mm výkon 2230 W\n",
      "M->M   panel keramický stropní balkonový v 230mm š  800mm dl 7,0m\n",
      "M->M   páska oboustranně lepící tl. 3 mm\n",
      "M->M   pítko ke stěně s tlačnou pitnou armaturou\n",
      "K->K   Plášťové těsnění z vodostavebného asfaltobetonu  o sklonu přes 5° do 20° ložná vrstva tl. 50 mm\n",
      "K->K   Podélná dřeva na mostních konstrukcích výroba\n",
      "M->M   podlaha dřevěná lamelová-Dub 9x210x1190-3 lamelová\n",
      "K->M   podpěry vedení hromosvodu na kovové a s hmoždinkou i na zděné konstrukce, Cu\n",
      "K->K   Potěr perlitocementový  400 kg cementu/m3, tl. přes 10 do 20 mm\n",
      "K->K   Potrubí z trubek ocelových hladkých bezešvých tvářených za tepla nízkotlakých Ø 108/4,0\n",
      "K->K   Požární příslušenství a armatury  hadice polyesterové C 52\n",
      "K->K   Programování řadiče MR na celočervenou za každou další světelnou skupinu\n",
      "K->K   Protipožární zpěňující nátěr ocelových konstrukcí třídy IV jednosložkový vodou ředitelný, funkční tloušťky přes 800 do 950 μm\n",
      "M->M   průchodka manžetová D 152 - 280 mm\n",
      "K->K   Překlad plochý Ytong PSF 125 dl 2000 mm\n",
      "K->K   Přeseknutí železobetonové trouby  v rovině kolmé nebo skloněné k ose trouby, se začištěním DN do 250 mm\n",
      "K->K   Přesun hmot pro vnitřní plynovod  stanovený procentní sazbou (%) z ceny vodorovná dopravní vzdálenost do 50 m v objektech výšky přes 36 do 48 m\n",
      "K->K   Příplatek k ceně kanalizačního potrubí za montáž v otevřeném výkopu ve sklonu přes 20 % DN od 600 do 1500\n",
      "K->K   Přípojky plynovodní ke spotřebičům z hadic nerezových vnější závit G 1/2 FM, délky 75 cm\n",
      "M->M   Rad. šroubení rohové, mosaz, R19, 1/2\"\n",
      "K->K   Registry z ocelových trubek žebrových bezešvých  se šroubovitě navinutými žebry z pásové oceli tl. 0,8-1,0 mm do oblouků Ø 76x3/156 mm třípramenné, stavební délky 3000 mm\n",
      "M->M   roh vnější 90°, profil ukončovací T pro volné hrany balkónů barevný lak Al, v. 20/50 mm, dl. 2,5 m\n",
      "M->M   RŠ O315 - DNO PP KG/110 SBĚRNÁ T2 (vč.těsnění)\n",
      "K->K   Sanace kanalizačního potrubí litinového, ocelového nebo betonového relining (protažení s volným mezikružím) PE potrubím DN 200\n",
      "K->K   Silniční svodidlo betonové oboustranné průběžné New Jersey DTB 102 MABA Prefa délky 2 m výšky 1,0 m\n",
      "K->K   Směšovací armatury  závitové trojcestné s ručním ovládáním DN 40\n",
      "M->M   spojka 10 kV pro třížilový kabel s plastovou izolací, 95-185 mm\n",
      "K->K   Stěny a příčky z betonu nosné kamenem prokládaného tř. C 16/20\n",
      "K->K   Střechy deskové ze skleněných tvárnic pochozích  pro zatížení do 200 kg/m2 montáž rozměr 200 x 200 x 22 mm\n",
      "M->M   svorka upínací na sloupek dopravní značky D 60mm\n",
      "K->K   Šoupátko přírubové VAG IKO-Plus 503 třmenové DN 150 PN 10 do 200°C těsnící sedlo mosaz/mosaz\n",
      "M->M   T kus PEX jednoznačný D 20 x 20 x 20 mm\n",
      "M->M   těleso otopné deskové RADIK typ21VK V500L1000 mm\n",
      "M->M   těleso trubkové přímotopné,1500 x 600 mm, 500 W\n",
      "K->K   Těsnicí nebo opevňovací vrstva z prostého betonu pro prostředí s mrazovými cykly tř. C 25/30, tl. vrstvy 150 mm\n",
      "M->M   trouba betonová vibrolisovaná s gumovým těsněním D 80 x 250 cm\n",
      "M->M   trubka kanalizační PVC DN 400x2000 mm SN8\n",
      "K->K   Třísložkový nerezový komínový systém jednoprůduchový z vnitřních nerezových vložek s nehořlavou izolační rohoží tloušťky 25 mm komínové těleso výšky 3 m svislý kouřovod uchycený ke stěně patními konzolami, délky vyložení přes 450 mm do 600 mm, světlý průměr vložky (max. odstup od stěny) přes 15 do 20 cm (350 mm)\n",
      "M->M   tvarovka přírubová litinová s hladkým koncem,práškový epoxid tl250µm F-kus DN 80mm\n",
      "K->K   Ukončení kabelů nebo vodičů koncovkou nebo s vývodkou přírubovou dvoucestnou, kabelů nebo vodičů celoplastových, počtu a průřezu žil 2x3x35+25 mm2\n",
      "K->K   Umyvadlo nerezové AZP AUM 17.2 automatické se senzorovou baterií na stěnu dva přívody vody 560x480 mm\n",
      "M->M   vak potrubí těsnící krátký D 200-250 mm 2,5 bar\n",
      "K->K   Venkovní lité pryžové povrchy na betonový podklad dvouvrstvé tloušťky 17 mm s impregnací podkladu, prováděné ručně plochy do 300 m2 jedna barva červená, zelená\n",
      "K->K   Ventily uzavírací přírubové  přímé ovládané elektrickým servomotorem PN 16 do 300°C (V 30 113 616) DN 80\n",
      "M->M   vodoměr bytový s rádiovým modulem suchoběžné, zvýšená antimagnetická ochrana DN 15 Q= 2.5 m3/h R80 T30, dl 110 mm\n",
      "M->M   vrut mosazný hlava půlkulatá drážka rovná 5x45mm\n",
      "K->K   Vykopávky v zemnících na suchu  s přehozením výkopku na vzdálenost do 3 m nebo s naložením na dopravní prostředek v hornině tř. 5 přes 100 do 1 000 m3\n",
      "K->K   Vyplnění rýh a otvorů  vyplnění a omítnutí rýh ve stěnách hloubky do 3 cm a šířky do 3 cm\n",
      "K->K   Vysekání výklenků nebo kapes ve zdivu betonovém  kapes pro osazování různých konstrukcí v základech, dlažbách apod., velikosti 100/150 mm, hl. do 250 mm\n",
      "K->K   Výztuž sloupů, pilířů, rámových stojek, táhel nebo vzpěr oblých svislých nebo šikmých (odkloněných) z betonářské oceli 10 505 (R) nebo BSt 500\n",
      "K->K   Základní antikorozní nátěr zámečnických konstrukcí jednonásobný akrylátový\n",
      "M->K   Zápachová uzávěrka HL500 van DN 40/50 s kulovým kloubem na odtoku\n",
      "K->K   Zasklívání střešních konstrukcí, světlíků a zahradních skleníků deskami dutinovými a komůrkovými  polykarbonátovým profilem komůrkovým do hliníkového U profilu s krycí lištou, tl. 20 mm\n",
      "K->K   Zatření spár vnějších povrchů cementovou maltou, ploch z tvárnic nebo kamene pilířů nebo sloupů\n",
      "K->K   Zdivo nadzákladové z lomového kamene štípaného nebo ručně vybíraného na sucho z pravidelných kamenů objemu 1 kusu kamene přes 0,02 m3\n",
      "K->K   Zhotovení odbočky  tř. 11 až 13 Ø 1420 mm, tl. 16 mm\n",
      "K->K   Zpevnění hornin kotvením  kotvy z betonářské oceli osazené do trubek z perforovaného plechu, v hornině mokré, průměr oceli přes 20 do 26 mm, délky 3 m\n",
      "K->K   Ztracené bednění věnců z pórobetonových U-profilů YTONG 500 kg/m3 pro zdivo tl 300 mm\n",
      "K->K   Žlab podokapní z pozinkovaného plechu včetně háků a čel roh nebo kout, žlabu hranatého rš 250 mm\n"
     ]
    }
   ],
   "source": [
    "testing = pd.read_csv('testing.csv', sep=';')\n",
    "testingData = testing['Description']\n",
    "testingResult = testing['TV']\n",
    "\n",
    "testPredictPlain = clf_pipeline.predict(testingData)\n",
    "testPrediction = list(map(lambda x: \"K\" if x == 0 else \"M\", testPredictPlain))\n",
    "\n",
    "print(len(testingData))\n",
    "\n",
    "for index, item in enumerate(testPrediction):\n",
    "    print (item + \"->\" + testingResult[index] + 3*\" \" + testingData[index])"
   ]
  },
  {
   "cell_type": "code",
   "execution_count": 15,
   "metadata": {},
   "outputs": [
    {
     "name": "stdout",
     "output_type": "stream",
     "text": [
      "Train accuracy: 0.98\n"
     ]
    }
   ],
   "source": [
    "testResultVec = list(map(lambda x: 0 if x == \"K\" else 1, testingResult))\n",
    "print (\"Train accuracy: {:.2f}\".format(accuracy_score(testResultVec, testPredictPlain)))"
   ]
  },
  {
   "cell_type": "code",
   "execution_count": null,
   "metadata": {},
   "outputs": [],
   "source": []
  },
  {
   "cell_type": "code",
   "execution_count": null,
   "metadata": {},
   "outputs": [],
   "source": []
  }
 ],
 "metadata": {
  "kernelspec": {
   "display_name": "Python 3",
   "language": "python",
   "name": "python3"
  },
  "language_info": {
   "codemirror_mode": {
    "name": "ipython",
    "version": 3
   },
   "file_extension": ".py",
   "mimetype": "text/x-python",
   "name": "python",
   "nbconvert_exporter": "python",
   "pygments_lexer": "ipython3",
   "version": "3.6.4"
  }
 },
 "nbformat": 4,
 "nbformat_minor": 2
}
